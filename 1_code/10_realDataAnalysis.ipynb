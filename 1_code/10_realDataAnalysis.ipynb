{
 "cells": [
  {
   "cell_type": "code",
   "execution_count": 111,
   "id": "ed6b9420",
   "metadata": {
    "scrolled": true
   },
   "outputs": [
    {
     "data": {
      "text/plain": [
       "Index(['id', 'C0', 'C1', 'laterality', 'initial_size', 'num_wounds', 'revasc',\n",
       "       'age', 'CVD', 'COPD', 'CHF', 'CAD', 'diabetes', 'HLD', 'HTN', 'obesity',\n",
       "       'PAD', 'smoker', 'healedAliveWithLimb6mo', 'first_visit', 'foot_wound',\n",
       "       'toe_wound', 'heel_wound', 'ankle_wound', 'leg_wound', 'white', 'black',\n",
       "       'race_other', 'female', 'hispanic', 'ps', 'ps_quint'],\n",
       "      dtype='object')"
      ]
     },
     "execution_count": 111,
     "metadata": {},
     "output_type": "execute_result"
    }
   ],
   "source": [
    "# Packages\n",
    "import pandas as pd\n",
    "import pymc3 as pm\n",
    "import sklearn as sk\n",
    "import matplotlib.pyplot as plt\n",
    "from sklearn.linear_model import LogisticRegression\n",
    "from sklearn.metrics import classification_report, confusion_matrix\n",
    "from mpl_toolkits import mplot3d\n",
    "from mpl_toolkits.mplot3d import Axes3D\n",
    "import statistics\n",
    "import arviz as az\n",
    "import bambi as bmb\n",
    "import numpy as np\n",
    "import sklearn as sk\n",
    "from skopt import gp_minimize\n",
    "from skopt.plots import plot_convergence\n",
    "from skopt.plots import plot_objective\n",
    "from skopt.plots import plot_gaussian_process\n",
    "from sklearn.gaussian_process import GaussianProcessRegressor\n",
    "from sklearn.gaussian_process.kernels import RBF\n",
    "from sklearn.gaussian_process.kernels import WhiteKernel\n",
    "from sklearn.gaussian_process.kernels import Matern\n",
    "\n",
    "# Set the seed for this analysis\n",
    "np.random.seed(seed = 20090701)\n",
    "\n",
    "# Load the data\n",
    "analysisData = pd.read_csv(\"../2_pipeline/10_analysisData.csv\")\n",
    "# analysisData.head()\n",
    "# analysisData.columns"
   ]
  },
  {
   "cell_type": "markdown",
   "id": "940c7cf7",
   "metadata": {},
   "source": [
    "# ITR evaluation: stabilized IPW"
   ]
  },
  {
   "cell_type": "code",
   "execution_count": 112,
   "id": "7410945f",
   "metadata": {},
   "outputs": [],
   "source": [
    "# Stabilized IPW estimate (negated)\n",
    "def computeStabilizedIPW(beta, analysisData):\n",
    "    analysisData['A_d'] = np.logical_or(analysisData['C0'] < beta[0], analysisData['initial_size'] > beta[1])*1.0 # Treatment assigned by d\n",
    "    analysisData['pi_d'] = np.where(analysisData['A_d'] == 1.0, analysisData['ps'], 1-analysisData['ps']) # PS for treatment assigned by d\n",
    "    analysisData['C_d'] = np.where(analysisData['revasc'] == analysisData['A_d'], 1, 0) # Consistent with regime indicator\n",
    "    analysisData['summand'] = analysisData['C_d']*analysisData['healedAliveWithLimb6mo']*analysisData['pi_d']\n",
    "    # Estimate the value\n",
    "    vhat_stabilizedIPW = sum(analysisData['summand'])/(sum(analysisData['C_d']*analysisData['pi_d']))\n",
    "    \n",
    "    return -1*vhat_stabilizedIPW\n",
    "    "
   ]
  },
  {
   "cell_type": "markdown",
   "id": "190d9e05",
   "metadata": {},
   "source": [
    "# Optimal DTR learning"
   ]
  },
  {
   "cell_type": "code",
   "execution_count": 113,
   "id": "1e7915a9",
   "metadata": {},
   "outputs": [
    {
     "name": "stdout",
     "output_type": "stream",
     "text": [
      "          fun: -0.48351757031796455\n",
      "    func_vals: array([-0.46977691, -0.36652026, -0.41106565, -0.44133837, -0.40856903,\n",
      "       -0.43146739, -0.4155901 , -0.4605672 , -0.37417514, -0.4172348 ,\n",
      "       -0.36498788, -0.4336245 , -0.41795171, -0.45642753, -0.36652026,\n",
      "       -0.44133837, -0.467344  , -0.37787018, -0.37417514, -0.27200099,\n",
      "       -0.4199698 , -0.38601176, -0.4336245 , -0.36652026, -0.46505046,\n",
      "       -0.44133837, -0.36652026, -0.3933122 , -0.46767267, -0.47874397,\n",
      "       -0.4336245 , -0.45642753, -0.28788736, -0.4199698 , -0.36019584,\n",
      "       -0.36652026, -0.45707302, -0.44133837, -0.46118243, -0.46118243,\n",
      "       -0.4336245 , -0.4336245 , -0.36652026, -0.4336245 , -0.4336245 ,\n",
      "       -0.45707302, -0.44880447, -0.41106565, -0.36652026, -0.40501927,\n",
      "       -0.4336245 , -0.3933122 , -0.44880447, -0.4336245 , -0.41795171,\n",
      "       -0.4336245 , -0.41795171, -0.41106565, -0.41795171, -0.41106565,\n",
      "       -0.44133837, -0.27682838, -0.45707302, -0.4472785 , -0.30257108,\n",
      "       -0.45707302, -0.43935745, -0.44880447, -0.37631988, -0.4336245 ,\n",
      "       -0.44133837, -0.44133837, -0.4336245 , -0.36019584, -0.44996143,\n",
      "       -0.44133837, -0.46767267, -0.44880447, -0.44133837, -0.47811916,\n",
      "       -0.47811916, -0.41073904, -0.4336245 , -0.44133837, -0.43146739,\n",
      "       -0.36823209, -0.4336245 , -0.4336245 , -0.41795171, -0.47383521,\n",
      "       -0.36652026, -0.41106565, -0.4336245 , -0.46445183, -0.48351757,\n",
      "       -0.27267451, -0.37417514, -0.4155901 , -0.43146739, -0.44133837])\n",
      "       models: [GaussianProcessRegressor(kernel=1**2 * Matern(length_scale=[1, 1], nu=2.5) + WhiteKernel(noise_level=0.475),\n",
      "                         n_restarts_optimizer=2, noise=0.47506929106181744,\n",
      "                         normalize_y=True, random_state=2005100057)]\n",
      " random_state: RandomState(MT19937) at 0x7FEF19876440\n",
      "        space: Space([Real(low=0.0, high=1.0, prior='uniform', transform='normalize'),\n",
      "       Real(low=0.0, high=100.0, prior='uniform', transform='normalize')])\n",
      "        specs: {'args': {'func': <function computeStabilizedIPW_internal at 0x7fef104ed8b0>, 'dimensions': Space([Real(low=0.0, high=1.0, prior='uniform', transform='normalize'),\n",
      "       Real(low=0.0, high=100.0, prior='uniform', transform='normalize')]), 'base_estimator': GaussianProcessRegressor(kernel=1**2 * Matern(length_scale=[1, 1], nu=2.5),\n",
      "                         n_restarts_optimizer=2, noise=0.47506929106181744,\n",
      "                         normalize_y=True, random_state=2005100057), 'n_calls': 100, 'n_random_starts': 100, 'n_initial_points': 10, 'initial_point_generator': 'random', 'acq_func': 'EI', 'acq_optimizer': 'auto', 'x0': None, 'y0': None, 'random_state': RandomState(MT19937) at 0x7FEF19876440, 'verbose': False, 'callback': None, 'n_points': 10000, 'n_restarts_optimizer': 5, 'xi': 0.01, 'kappa': 1.96, 'n_jobs': 1, 'model_queue_size': None}, 'function': 'base_minimize'}\n",
      "            x: [0.4529158389726422, 6.95116827854453]\n",
      "      x_iters: [[0.19642273480017652, 20.109654359478895], [0.8533383246716664, 75.09736000649477], [0.6155737449746393, 97.18889893647628], [0.1737089401727853, 57.91549249960747], [0.6726254099631329, 8.913589607861852], [0.5568977290469652, 44.59775347376205], [0.5785426674401188, 15.817534014084659], [0.151733056603944, 25.530408058942104], [0.976214306804811, 65.58674390460409], [0.5015688587630198, 23.801418173612625], [0.9197948597039265, 16.283701343235748], [0.24016897255408237, 94.18507227379216], [0.6759076950927851, 62.45485958126871], [0.46378891093700947, 30.559165116702875], [0.855581687107433, 82.27889361240732], [0.09499919952905592, 50.29406555824194], [0.4928350525602405, 26.417872053321684], [0.8383861969694762, 36.92973329091717], [0.9921620187475844, 66.70511746122357], [0.23210692679672112, 0.8594720197686703], [0.5892912595050219, 49.55758795257069], [0.9968195151934721, 32.87104114697989], [0.2038069347613936, 84.31089012419253], [0.8948734040700396, 65.43930769690486], [0.29740898574490066, 8.926299353870927], [0.29525259937317555, 49.589428300064874], [0.8042248117704163, 60.13674409562937], [0.7328800857830446, 64.29771126655451], [0.47202396887148157, 44.40955298263706], [0.49768095813356394, 13.842599647562128], [0.18694832914331985, 82.05788298093391], [0.3378651820721465, 31.354643818621415], [0.5640463511292574, 2.0539610654617295], [0.5823684058243624, 54.731934030732475], [0.8857901204777322, 30.83719085749757], [0.9061661045812903, 97.84644711511585], [0.4575009694025751, 62.988084105585095], [0.30449922142450875, 50.87082462989238], [0.09878640916100848, 32.61339404480816], [0.2690399349046642, 35.124248263845956], [0.22438524425902634, 68.30801865331576], [0.1592352676313731, 71.82942106335796], [0.8330914379039739, 67.94812215489164], [0.1565860427746009, 69.31137134679429], [0.13713913731336938, 84.74880475087431], [0.4973957627564548, 49.907327321581604], [0.40760358439276667, 81.02974457403393], [0.6337571485543605, 67.56533827739736], [0.8259110766588572, 51.35398560280839], [0.7414791309399132, 39.35750975725513], [0.0713064010488267, 77.30779005067154], [0.7445077921394418, 73.93034374816443], [0.4231784084065139, 83.45965144016371], [0.32298359576963326, 92.43789201682404], [0.6833839522355509, 81.36683956176113], [0.12751120027033216, 95.00368189349086], [0.6871192045671801, 63.72195950724733], [0.6001012022853416, 87.9257338200598], [0.6741410519562755, 97.84820637350465], [0.5431700132765748, 72.79532876067547], [0.18353296478029205, 46.509981956904234], [0.3134319697243237, 1.5306401060931623], [0.41628628016955194, 62.0731330258428], [0.34904690411441125, 50.73998969678335], [0.9225975059224212, 1.5449017713119133], [0.40175513292977016, 51.35430126183797], [0.3664370407035013, 93.85071054293664], [0.49015439107675485, 86.942579833207], [0.7732782121351454, 11.302884025269924], [0.21934617881210267, 68.91085348817812], [0.06842157079475698, 59.24246485263349], [0.05238766145107622, 48.56337531934536], [0.01252580142784732, 98.51882201727602], [0.9130229994024703, 21.61420051612945], [0.029553984065788914, 31.75761802643094], [0.12384398363226881, 49.98596918757264], [0.3734483372331125, 35.67605294925355], [0.43940941989697135, 80.86791353257836], [0.031966709297704406, 52.69376877379221], [0.45731497278529953, 22.603906455679073], [0.3416435342969289, 22.77192051909817], [0.6922032984925438, 10.273705768873167], [0.06677893680195991, 88.09004841392553], [0.27677115245840217, 60.3521583096179], [0.572853575059748, 43.96528066836215], [0.7618039443744122, 24.638086005566123], [0.13911164784740696, 74.21183539531246], [0.11406061351782995, 75.89107949111903], [0.6705323139983607, 81.88509499849862], [0.38001868004918393, 12.91033846695329], [0.820982599969648, 73.42724945602625], [0.62002444139661, 93.15675675311927], [0.25670471631863917, 70.0280434541998], [0.21359181780472053, 10.359558153795426], [0.4529158389726422, 6.95116827854453], [0.49067526682370055, 1.0732732195651742], [0.9195953863322126, 47.07634654609548], [0.625794348134689, 15.869477001697488], [0.5814960193679982, 38.98793758081247], [0.332549855596655, 54.013945476919275]]\n"
     ]
    }
   ],
   "source": [
    "# Expectation improvement\n",
    "# Set the noise\n",
    "noise = np.std(analysisData.healedAliveWithLimb6mo)\n",
    "\n",
    "# Create the internal sIPW function\n",
    "def computeStabilizedIPW_internal(beta, analysisData = analysisData):\n",
    "    return(computeStabilizedIPW(beta, analysisData = analysisData))\n",
    "\n",
    "# Do expectation improvement\n",
    "ei_result = gp_minimize(computeStabilizedIPW_internal,\n",
    "           [(0.0, 1.0), (0.0, 100.0)],\n",
    "           acq_func = \"EI\",\n",
    "           n_calls = 100,\n",
    "           n_random_starts = 100,\n",
    "           noise = noise)\n",
    "print(ei_result)\n",
    "\n",
    "# Extract the relevant information\n",
    "thetas_explored = pd.DataFrame(ei_result['x_iters'], columns = ['theta1', 'theta2'])\n",
    "values_explored = pd.DataFrame(ei_result['func_vals'], columns = ['values'])\n",
    "policies_explored = pd.concat([thetas_explored, values_explored], axis=1)\n",
    "optimal_theta = pd.DataFrame(ei_result['x'], columns = ['theta'])\n",
    "policies_explored.to_csv('../2_pipeline/10_policiesExplored.csv')\n",
    "optimal_theta.to_csv(\"../2_pipeline/10_optimalTheta.csv\")"
   ]
  },
  {
   "cell_type": "markdown",
   "id": "c75d36b8",
   "metadata": {},
   "source": [
    "# Fit GPR (characterization)"
   ]
  },
  {
   "cell_type": "code",
   "execution_count": 114,
   "id": "7996decf",
   "metadata": {},
   "outputs": [
    {
     "name": "stdout",
     "output_type": "stream",
     "text": [
      "0.297**2 * Matern(length_scale=[1.82, 55], nu=1.5) + WhiteKernel(noise_level=8.15e-05)\n"
     ]
    }
   ],
   "source": [
    "# Fit the GPR\n",
    "kernel = 1.0 * Matern(length_scale = [1.0, 1.0], nu = 1.5) \\\n",
    "    + WhiteKernel(noise_level = 10, noise_level_bounds = (1e-5, 1e2))\n",
    "gpr = GaussianProcessRegressor(kernel = kernel, alpha = 0.0)\n",
    "gpr.fit(policies_explored.loc[:,['theta1', 'theta2']], policies_explored.loc[:,['values']])\n",
    "print(gpr.kernel_)\n",
    "\n",
    "# Get the posterior predictive mean over the parameter space\n",
    "theta1_gp = []\n",
    "theta2_gp = []\n",
    "mean_gp = []\n",
    "sd_gp = []\n",
    "for i in np.linspace(0.0, 1.0, num = 101):\n",
    "    for j in np.linspace(0.0, 100.0, num = 101):\n",
    "        theta1_gp.append(i)\n",
    "        theta2_gp.append(j)\n",
    "        eval_gp_mean, eval_gp_sd = gpr.predict(pd.DataFrame({'theta1':[i], 'theta2':[j]}), return_std = True)\n",
    "        mean_gp.append(eval_gp_mean)\n",
    "        sd_gp.append(eval_gp_sd)\n",
    "\n",
    "# wrangle        \n",
    "mean_gp_list = [mean_gp[i][0][0] for i in range(len(mean_gp))]\n",
    "sd_gp_list = [sd_gp[i][0] for i in range(len(sd_gp))]\n",
    "\n",
    "# Save the posterior predictive mean estimates\n",
    "pd.DataFrame({'theta1':theta1_gp, 'theta2':theta2_gp, 'gp_mean': mean_gp, 'gp_sd': sd_gp}).to_csv(\"../2_pipeline/10_gpValueSurrogateOverTheta.csv\")"
   ]
  },
  {
   "cell_type": "code",
   "execution_count": null,
   "id": "12aef35e",
   "metadata": {},
   "outputs": [],
   "source": []
  }
 ],
 "metadata": {
  "kernelspec": {
   "display_name": "Python 3 (ipykernel)",
   "language": "python",
   "name": "python3"
  },
  "language_info": {
   "codemirror_mode": {
    "name": "ipython",
    "version": 3
   },
   "file_extension": ".py",
   "mimetype": "text/x-python",
   "name": "python",
   "nbconvert_exporter": "python",
   "pygments_lexer": "ipython3",
   "version": "3.9.7"
  }
 },
 "nbformat": 4,
 "nbformat_minor": 5
}
