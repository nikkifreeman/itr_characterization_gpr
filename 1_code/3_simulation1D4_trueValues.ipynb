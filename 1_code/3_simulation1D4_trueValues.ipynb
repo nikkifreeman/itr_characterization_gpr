{
 "cells": [
  {
   "cell_type": "code",
   "execution_count": 4,
   "id": "d98579b8",
   "metadata": {},
   "outputs": [],
   "source": [
    "import pandas as pd\n",
    "import numpy as np"
   ]
  },
  {
   "cell_type": "markdown",
   "id": "b17fa612",
   "metadata": {},
   "source": [
    "Let the policy class $\\mathcal{D}_4 = I(x_1 < \\beta_1 \\text{ or } x_1 > \\beta_2)$ for $x_1 \\in [0, 1]$ be the policy class under consideration.\n",
    "\n",
    "Suppose that the true generative model is as follows\n",
    "\n",
    "1. Draw $X_1 \\in [0, 1]$: $X_1 \\sim Uniform[0, 1]$\n",
    "2. Draw $A \\in \\{0, 1\\}$ according to a policy\n",
    "3. Draw $\\mathbb{E}[Y \\vert X_1, A] = \\gamma_0 + \\gamma_1 x + A*\\cos(4x\\pi)$\n",
    "\n"
   ]
  },
  {
   "cell_type": "markdown",
   "id": "0447320c",
   "metadata": {},
   "source": [
    "Consider the particular parameterization for $\\mathbb{E}[Y \\vert X_1, A]$\n",
    "* $\\boldsymbol{\\gamma} = (-0.5, 1)$"
   ]
  },
  {
   "cell_type": "code",
   "execution_count": 5,
   "id": "8ffeb2a0",
   "metadata": {},
   "outputs": [],
   "source": [
    "def getTreatment(x1, beta):\n",
    "    if np.logical_or(x1 < beta[0], x1 > beta[1]): return 1\n",
    "    else: return 0\n",
    "    \n",
    "getTreatment_vec = np.vectorize(getTreatment, excluded=[\"beta\"])"
   ]
  },
  {
   "cell_type": "code",
   "execution_count": 6,
   "id": "af10abd7",
   "metadata": {},
   "outputs": [],
   "source": [
    "# Numerically compute the integral\n",
    "np.random.seed(20191022)\n",
    "# Numerically calculate mean\n",
    "for w in [0.75, 1, 1.25]:\n",
    "    \n",
    "    # Draw a bunch of x's\n",
    "    x = w*np.random.uniform(0, 1, 10000)\n",
    "\n",
    "    # Create a place to hold results\n",
    "    beta0_holder = []\n",
    "    beta1_holder = []\n",
    "    value_holder = []\n",
    "    for beta0 in np.linspace(0, 1, 101):\n",
    "        for beta1 in np.linspace(0, 1, 101):\n",
    "            value = np.mean(-0.5 + x +getTreatment_vec(x1 = x, beta = [beta0, beta1])*(np.cos(4*x*np.pi)))  \n",
    "            beta0_holder.append(beta0)\n",
    "            beta1_holder.append(beta1)\n",
    "            value_holder.append(value)\n",
    "    # Save the true values for each beta\n",
    "    trueDF = pd.DataFrame({'beta0':beta0_holder, 'beta1':beta1_holder, 'value':value_holder})\n",
    "    trueDF.to_csv(\"../2_pipeline/3_simulation1D4_\" + str(w) + \"_trueValues.csv\")"
   ]
  },
  {
   "cell_type": "code",
   "execution_count": 66,
   "id": "8717a834",
   "metadata": {},
   "outputs": [],
   "source": []
  },
  {
   "cell_type": "code",
   "execution_count": 229,
   "id": "011a63be",
   "metadata": {},
   "outputs": [
    {
     "name": "stdout",
     "output_type": "stream",
     "text": [
      "-0.06381284649117804\n",
      "0.1882198667589008\n",
      "0.260779592467306\n"
     ]
    }
   ],
   "source": [
    "# Population mean under a randomized (50/50) treatment assignment scheme\n",
    "# Draw a bunch of x's\n",
    "np.random.seed(20191022)\n",
    "x = w*np.random.uniform(0, 1, 500000)\n",
    "# Draw the treatment assignments\n",
    "a = np.random.binomial(1, 0.5, 500000)\n",
    "\n",
    "for w in [0.75, 1, 1.25]:\n",
    "    print(np.mean(-0.5 + w*x + a*np.cos(2*np.pi*x*w)))\n",
    "\n",
    "\n"
   ]
  },
  {
   "cell_type": "code",
   "execution_count": 221,
   "id": "2c22fb4c",
   "metadata": {},
   "outputs": [
    {
     "name": "stdout",
     "output_type": "stream",
     "text": [
      "0.1882198667589008\n",
      "0.659458450120317\n",
      "12\n",
      "2\n",
      "3\n",
      "5\n"
     ]
    }
   ],
   "source": []
  }
 ],
 "metadata": {
  "kernelspec": {
   "display_name": "Python 3 (ipykernel)",
   "language": "python",
   "name": "python3"
  },
  "language_info": {
   "codemirror_mode": {
    "name": "ipython",
    "version": 3
   },
   "file_extension": ".py",
   "mimetype": "text/x-python",
   "name": "python",
   "nbconvert_exporter": "python",
   "pygments_lexer": "ipython3",
   "version": "3.9.7"
  }
 },
 "nbformat": 4,
 "nbformat_minor": 5
}
